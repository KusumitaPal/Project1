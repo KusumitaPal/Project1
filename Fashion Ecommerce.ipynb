{
 "cells": [
  {
   "cell_type": "code",
   "execution_count": 4,
   "id": "c91a919c-0937-4583-8b75-c8fcbe46f990",
   "metadata": {},
   "outputs": [],
   "source": [
    "import pandas as pd\n",
    "from urllib.parse import urlparse"
   ]
  },
  {
   "cell_type": "code",
   "execution_count": 99,
   "id": "c8c4f6d1-b443-4a31-addb-deeaaf5b0514",
   "metadata": {},
   "outputs": [],
   "source": [
    "df=pd.read_csv(\"C:\\My Files\\Project_data_2\\shopify_orders.csv\")\n",
    "df1=pd.read_excel(\"C:\\My Files\\Project_data_2\\Fashion_Ecommerce.xlsx\")"
   ]
  },
  {
   "cell_type": "code",
   "execution_count": null,
   "id": "d760f978-74af-473b-8040-fd7fc7f071ee",
   "metadata": {},
   "outputs": [],
   "source": [
    "#Checking for duplicates\n",
    "df.duplicated().sum()\n",
    "\n",
    "#Converting created date\n",
    "df['s_created_at']=pd.to_datetime(df['s_created_at'])"
   ]
  },
  {
   "cell_type": "code",
   "execution_count": null,
   "id": "85624529-040f-4671-bd93-5815195845c1",
   "metadata": {},
   "outputs": [],
   "source": [
    "data = df[['s_created_at','s_fulfillment_status','s_subtotal_price']]\n",
    "data['Month']=data['s_created_at'].dt.month\n",
    "data['Year']=data['s_created_at'].dt.year\n"
   ]
  },
  {
   "cell_type": "markdown",
   "id": "2b47d355-34cd-4780-bedd-19afe5268d22",
   "metadata": {},
   "source": [
    "Total sales for year 2022 and 2023"
   ]
  },
  {
   "cell_type": "code",
   "execution_count": 103,
   "id": "7e6a5c5a-1cc5-4eb8-8f3e-2b5ef6e3f837",
   "metadata": {},
   "outputs": [
    {
     "name": "stdout",
     "output_type": "stream",
     "text": [
      "Total sales in 2022 is 56544250.68\n",
      "Total sales in 2023 is 60996421.70\n"
     ]
    }
   ],
   "source": [
    "years=[2022,2023]\n",
    "for i in years:\n",
    "    sales=df1[df1[\"Year\"]==i][\"s_subtotal_price\"].sum()\n",
    "    print(f\"Total sales in {i} is {sales :.2f}\")"
   ]
  },
  {
   "cell_type": "markdown",
   "id": "b1f4e6c6-84e0-40f0-8b4d-102fc0087b78",
   "metadata": {},
   "source": [
    "YoY growth for 2022 and 2023"
   ]
  },
  {
   "cell_type": "code",
   "execution_count": 25,
   "id": "3a259bd1-de32-4ac5-a55f-f719eb696a2c",
   "metadata": {},
   "outputs": [
    {
     "name": "stdout",
     "output_type": "stream",
     "text": [
      "Growth in the sales in the year 2022 is 14.87 %\n",
      "Growth in the sales in the year 2023 is 10.82 %\n"
     ]
    }
   ],
   "source": [
    "#Calculating YoY\n",
    "year_sales=[]\n",
    "year=[2019,2020,2021,2022,2023]\n",
    "for j in year:\n",
    "    sales=data[(data['Year'] == j) & (data['s_fulfillment_status'] == \"fulfilled\")]['s_subtotal_price'].sum()\n",
    "    year_sales.append(sales)\n",
    "yoy_sales=[]\n",
    "for i in range(len(year_sales)-1):\n",
    "    yoy=((year_sales[i+1]-year_sales[i])/year_sales[i])*100\n",
    "    yoy_sales.append(yoy)\n",
    "print(f\"Growth in the sales in the year 2022 is {yoy_sales[2] :.2f} %\")\n",
    "print(f\"Growth in the sales in the year 2023 is {yoy_sales[3] :.2f} %\")"
   ]
  },
  {
   "cell_type": "markdown",
   "id": "e1a74a39-9d98-498f-b0cb-f37a4ebf561b",
   "metadata": {},
   "source": [
    "There is a decline in the growth in sales"
   ]
  },
  {
   "cell_type": "markdown",
   "id": "1b97627c-d604-4c7c-8914-1dac2f45f59a",
   "metadata": {},
   "source": [
    "Calculation of Metrices"
   ]
  },
  {
   "cell_type": "code",
   "execution_count": 46,
   "id": "10b487cb-8d28-4394-b1b1-0970aa390769",
   "metadata": {},
   "outputs": [
    {
     "name": "stdout",
     "output_type": "stream",
     "text": [
      "% increase in orders for 2022 is 11.12 %\n",
      "% increase in orders for 2023 is 3.40 %\n",
      "\n",
      "% Decrease in cancelled orders for 2022 is -7.49 %\n",
      "% Decrease in cancelled orders for 2023 is -12.24 %\n"
     ]
    }
   ],
   "source": [
    "# % Increase in Order Count\n",
    "years=[2021,2022,2023]\n",
    "orders=[]\n",
    "percent_increase=[]\n",
    "for i in years:\n",
    "    orders.append(df1[df1[\"Year\"]==i][\"order_seq\"].size)\n",
    "for i in range(len(orders)-1):\n",
    "    percent_increase.append(((orders[i+1]-orders[i])/orders[i])*100)\n",
    "    print(f\"% increase in orders for {years[i+1]} is {percent_increase[i] :.2f} %\")\n",
    "    \n",
    "print()\n",
    "\n",
    "# % Decrease in Cancel Order Count\n",
    "orders_cancel=[]\n",
    "percent_increase_cancel=[]\n",
    "for i in years:\n",
    "    orders_cancel.append(df1[(df1[\"Year\"]==i) & (df1[\"s_cancel_reason\"].notna())][\"order_seq\"].size)\n",
    "for i in range(len(orders)-1):\n",
    "    percent_increase_cancel.append(((orders_cancel[i+1]-orders_cancel[i])/orders_cancel[i])*100)\n",
    "    print(f\"% Decrease in cancelled orders for {years[i+1]} is {percent_increase_cancel[i] :.2f} %\")"
   ]
  },
  {
   "cell_type": "markdown",
   "id": "68e48089-b121-463e-b8ee-bc114d1f8770",
   "metadata": {},
   "source": [
    "%Customer Retention Calculation for 2022 and 2023"
   ]
  },
  {
   "cell_type": "code",
   "execution_count": 26,
   "id": "3545c846-7a90-4402-9a08-0d77f8968054",
   "metadata": {},
   "outputs": [
    {
     "name": "stdout",
     "output_type": "stream",
     "text": [
      "%Customer Retention for 2022 is 38.67%\n",
      "%Customer Retention for 2023 is 37.77%\n",
      "6429\n",
      "6882\n"
     ]
    }
   ],
   "source": [
    "customers21=df1[df1['Year']== 2021]['s_customer_id'].unique()\n",
    "customers22=df1[df1['Year']== 2022]['s_customer_id'].unique()\n",
    "customers23=df1[df1['Year'] == 2023]['s_customer_id'].unique()\n",
    "\n",
    "retained_cust22=0\n",
    "for i in customers21:\n",
    "    for j in range(len(customers22)):\n",
    "        if i == customers22[j]:\n",
    "            retained_cust22+=1\n",
    "\n",
    "retained_cust23=0\n",
    "for i in customers22:\n",
    "    for j in range(len(customers23)):\n",
    "        if i == customers23[j]:\n",
    "            retained_cust23+=1\n",
    "cust_ret22=(retained_cust22/len(customers21))*100\n",
    "cust_ret23=(retained_cust23/len(customers22))*100\n",
    "\n",
    "print(f\"%Customer Retention for 2022 is {cust_ret22 :.2f}%\")\n",
    "print(f\"%Customer Retention for 2023 is {cust_ret23 :.2f}%\")"
   ]
  },
  {
   "cell_type": "markdown",
   "id": "55f0a253-ced9-4d4e-b25f-35ae8ee7ff98",
   "metadata": {},
   "source": [
    "Cancelled Orders Analysis"
   ]
  },
  {
   "cell_type": "code",
   "execution_count": 64,
   "id": "de4089f1-73dc-4025-833b-f03be5357b1a",
   "metadata": {},
   "outputs": [],
   "source": [
    "#Creation of new dataframe having only cancelled orders\n",
    "data2 = df1[df1['s_cancel_reason'].notna()]"
   ]
  },
  {
   "cell_type": "code",
   "execution_count": 68,
   "id": "32b8d96a-0656-4a79-a7d0-e7d3b4a696ac",
   "metadata": {},
   "outputs": [
    {
     "data": {
      "text/plain": [
       "Place\n",
       "Maharashtra    224\n",
       "Tamil Nadu     188\n",
       "Karnataka      170\n",
       "Kerala         162\n",
       "Telangana      121\n",
       "Name: count, dtype: int64"
      ]
     },
     "execution_count": 68,
     "metadata": {},
     "output_type": "execute_result"
    }
   ],
   "source": [
    "#Top 5 places with maximum cancelled orders for the years 2021, 2022 and 2023\n",
    "data2[data2['Year']==2022]['Place'].value_counts().head(5)"
   ]
  },
  {
   "cell_type": "code",
   "execution_count": 69,
   "id": "e444dd2e-64bd-4ace-9140-cd0544e21f2f",
   "metadata": {},
   "outputs": [
    {
     "data": {
      "text/plain": [
       "Place\n",
       "Tamil Nadu     246\n",
       "Maharashtra    136\n",
       "Karnataka      134\n",
       "Telangana      121\n",
       "Kerala          93\n",
       "Name: count, dtype: int64"
      ]
     },
     "execution_count": 69,
     "metadata": {},
     "output_type": "execute_result"
    }
   ],
   "source": [
    "data2[data2['Year']==2023]['Place'].value_counts().head(5)"
   ]
  },
  {
   "cell_type": "code",
   "execution_count": 70,
   "id": "bb92683c-adcf-4fa3-80fd-f8b2b8c8d8c9",
   "metadata": {},
   "outputs": [
    {
     "data": {
      "text/plain": [
       "s_gateway\n",
       "Cash on Delivery (COD)    1113\n",
       "Pay through GPay/paytm     102\n",
       "Paypal                      69\n",
       "Razorpay Secure             60\n",
       "Bank Deposit                19\n",
       "Name: count, dtype: int64"
      ]
     },
     "execution_count": 70,
     "metadata": {},
     "output_type": "execute_result"
    }
   ],
   "source": [
    "#Top 5 payment methods with maximum cancelled orders for the years 2021, 2022 and 2023\n",
    "data2[data2['Year']==2023]['s_gateway'].value_counts().head(5)"
   ]
  },
  {
   "cell_type": "code",
   "execution_count": 71,
   "id": "8a07c43a-bc5d-4d44-b7aa-5fc212776cd8",
   "metadata": {},
   "outputs": [
    {
     "data": {
      "text/plain": [
       "s_gateway\n",
       "Cash on Delivery (COD)                    938\n",
       "Pay through GPay/paytm                    430\n",
       "Bank Deposit                               96\n",
       "Paypal                                     55\n",
       "razorpay_cards_upi_netbanking_wallets_     27\n",
       "Name: count, dtype: int64"
      ]
     },
     "execution_count": 71,
     "metadata": {},
     "output_type": "execute_result"
    }
   ],
   "source": [
    "data2[data2['Year']==2022]['s_gateway'].value_counts().head(5)"
   ]
  },
  {
   "cell_type": "code",
   "execution_count": 73,
   "id": "a5b93276-e277-4969-87cc-44e5a98c21dc",
   "metadata": {},
   "outputs": [
    {
     "data": {
      "text/plain": [
       "s_gateway\n",
       "Cash on Delivery (COD)    989\n",
       "Pay through GPay/paytm    313\n",
       "Bank Deposit              243\n",
       "Paypal                    109\n",
       "payu_india                 33\n",
       "Name: count, dtype: int64"
      ]
     },
     "execution_count": 73,
     "metadata": {},
     "output_type": "execute_result"
    }
   ],
   "source": [
    "data2[data2['Year']==2021]['s_gateway'].value_counts().head(5)"
   ]
  },
  {
   "cell_type": "markdown",
   "id": "bd2a49c5-9b08-4bbc-aa96-af282f5df91d",
   "metadata": {},
   "source": [
    "Vendor Analysis"
   ]
  },
  {
   "cell_type": "code",
   "execution_count": null,
   "id": "fce7e7a9-55ad-4501-af78-92caa6c1cfe5",
   "metadata": {},
   "outputs": [],
   "source": [
    "vendor_sales22=df1[df1[\"Year\"]==2022].groupby([\"Year\",\"s_vendor\"])[\"s_subtotal_price\"].sum().sort_values(ascending=False).reset_index().tail(10)\n",
    "vendor_sales22"
   ]
  },
  {
   "cell_type": "code",
   "execution_count": null,
   "id": "0aeedec4-2b31-48f3-a364-4629db7188a9",
   "metadata": {},
   "outputs": [],
   "source": [
    "vendor_sales23=df1[df1[\"Year\"]==2023].groupby([\"Year\",\"s_vendor\"])[\"s_subtotal_price\"].sum().sort_values(ascending=False).reset_index().tail(10)\n",
    "vendor_sales23"
   ]
  },
  {
   "cell_type": "code",
   "execution_count": 19,
   "id": "b1997858-e7f0-4c2e-92a6-d4b8ca42eafe",
   "metadata": {},
   "outputs": [],
   "source": [
    "avg_cancel_orders22=df1[(df1[\"Year\"]==2023) & (df1[\"s_cancel_reason\"].notna())].groupby([\"s_vendor\"])[\"order_seq\"].size().sort_values(ascending=False).reset_index()"
   ]
  },
  {
   "cell_type": "markdown",
   "id": "08bfa4d7-26c1-4ad2-890c-f06e0c7bcae6",
   "metadata": {},
   "source": [
    "Advertisement Analysis "
   ]
  },
  {
   "cell_type": "code",
   "execution_count": 29,
   "id": "49697602-6fcb-4f12-a4fe-17e4406f1a33",
   "metadata": {},
   "outputs": [],
   "source": [
    "df5=pd.read_excel(\"C:\\My Files\\Project_data_2\\Ad_source.xlsx\")"
   ]
  },
  {
   "cell_type": "code",
   "execution_count": 39,
   "id": "0ca9673c-4a24-4ac6-9e1e-adc6d63f3a02",
   "metadata": {},
   "outputs": [],
   "source": [
    "#Combining lv and fv source for reduction in null values\n",
    "df5['Source'] = df5['s_fv_utm_source'].fillna(df5['s_lv_utm_source'])"
   ]
  },
  {
   "cell_type": "code",
   "execution_count": 43,
   "id": "01624422-d077-40f3-9b2d-9fb720ce3e5f",
   "metadata": {},
   "outputs": [
    {
     "data": {
      "text/plain": [
       "0.1395620295952239"
      ]
     },
     "execution_count": 43,
     "metadata": {},
     "output_type": "execute_result"
    }
   ],
   "source": [
    "#Checking for percentage of null values\n",
    "df5['Source'].isnull().sum()/df5['Source'].shape[0]\n",
    "\n",
    "#It has reduced which is good"
   ]
  },
  {
   "cell_type": "code",
   "execution_count": 68,
   "id": "bf8d343d-4b3b-4058-a302-8fbe659a6089",
   "metadata": {},
   "outputs": [],
   "source": [
    "#Extracting the name of the social media app base on the mapping given\n",
    "source_map = {\n",
    "    'FBORG': 'Facebook',\n",
    "    'INSSTY': 'Instagram',\n",
    "    'NLEMAIL': 'Mail',\n",
    "    'WAMSG': 'Whatsapp',\n",
    "    'pinterest': 'Pinterest',\n",
    "    'YTRLS': 'YouTube',\n",
    "    'direct': 'Company Website'\n",
    "}\n",
    "\n",
    "# Convert to string and apply keyword matching\n",
    "df5['Social_app'] = [\n",
    "    next((v for k, v in source_map.items() if k in str(text)), '')\n",
    "    for text in df5['Source']\n",
    "]\n"
   ]
  },
  {
   "cell_type": "code",
   "execution_count": 69,
   "id": "0298f7ba-2c21-43dc-941d-ce69ab39d85f",
   "metadata": {},
   "outputs": [],
   "source": [
    "df5['year']=df5['s_created_at'].dt.year\n",
    "df5['year'] = df5['year'].astype('Int64')"
   ]
  },
  {
   "cell_type": "code",
   "execution_count": 86,
   "id": "3ce3f40c-bfb9-43c0-912e-addaf0284186",
   "metadata": {},
   "outputs": [
    {
     "data": {
      "text/plain": [
       "Social_app\n",
       "             60593\n",
       "Whatsapp      9550\n",
       "Mail          7952\n",
       "Facebook      2730\n",
       "Instagram     1403\n",
       "YouTube         15\n",
       "Name: count, dtype: int64"
      ]
     },
     "execution_count": 86,
     "metadata": {},
     "output_type": "execute_result"
    }
   ],
   "source": [
    "df5['Social_app'].value_counts()"
   ]
  },
  {
   "cell_type": "code",
   "execution_count": 72,
   "id": "9c18ea58-db0a-4182-b46e-9ad1cfcf76d7",
   "metadata": {},
   "outputs": [
    {
     "name": "stdout",
     "output_type": "stream",
     "text": [
      "2022\n",
      "Orders received is 5314\n",
      "Customers is 520\n",
      "Sales contributed by app in is 17267298.75\n",
      "2023\n",
      "Orders received is 6412\n",
      "Customers is 394\n",
      "Sales contributed by app in is 4838851.10\n"
     ]
    }
   ],
   "source": [
    "year = [2022, 2023]\n",
    "for i in year:\n",
    "    total = df5[(df5[\"Social_app\"] != \"\") & (df5['year'] == i)][\"s_subtotal_price\"].sum()\n",
    "    orders = df5[(df5[\"Social_app\"] != \"\") & (df5['year'] == i)][\"order_seq\"].unique().shape[0]\n",
    "    customers = df5[(df5[\"Social_app\"] != \"\") & (df5['year'] == i)][\"s_customer_id\"].unique().shape[0]\n",
    "    print(i)\n",
    "    print(f\"Orders received is {orders}\")\n",
    "    print(f\"Customers is {customers}\")\n",
    "    print(f\"Sales contributed by app in is {total :.2f}\")"
   ]
  },
  {
   "cell_type": "code",
   "execution_count": 76,
   "id": "63c50cc2-7ea3-465b-bece-8ebf1fe25b0c",
   "metadata": {},
   "outputs": [
    {
     "name": "stdout",
     "output_type": "stream",
     "text": [
      "2022\n",
      "%Orders received through the apps is 30.89\n",
      "%Customers who arrived at the website through apps is 3.02\n",
      "Sales contributed by the apps in is 31.50\n",
      "2023\n",
      "%Orders received through the apps is 36.70\n",
      "%Customers who arrived at the website through apps is 2.25\n",
      "Sales contributed by the apps in is 40.91\n"
     ]
    }
   ],
   "source": [
    "year = [2022, 2023]\n",
    "for i in year:\n",
    "    total = (df5[(df5[\"Social_app\"] != \"\") & (df5['year'] == i)][\"s_subtotal_price\"].sum() / df5[df5['year']==i][\"s_subtotal_price\"].sum())*100\n",
    "    orders = (df5[(df5[\"Social_app\"] != \"\") & (df5['year'] == i)][\"order_seq\"].unique().shape[0] / df5[df5['year']==i][\"order_seq\"].unique().shape[0])*100\n",
    "    customers = (df5[(df5[\"Social_app\"] != \"\") & (df5['year'] == i)][\"s_customer_id\"].unique().shape[0] / df5[df5['year']==i][\"order_seq\"].unique().shape[0])*100\n",
    "    print(i)\n",
    "    print(f\"%Orders received through the apps is {orders :.2f}\")\n",
    "    print(f\"%Customers who arrived at the website through apps is {customers :.2f}\")\n",
    "    print(f\"Sales contributed by the apps in is {total :.2f}\")"
   ]
  },
  {
   "cell_type": "code",
   "execution_count": 97,
   "id": "a35a12ef-9988-43eb-9ca9-9c8895e91255",
   "metadata": {},
   "outputs": [
    {
     "name": "stdout",
     "output_type": "stream",
     "text": [
      "\n",
      "Year 2022\n",
      "% Sales contribution by each app:\n",
      "Social_app\n",
      "Facebook      9.56\n",
      "Instagram     7.21\n",
      "Mail         49.48\n",
      "Whatsapp     33.68\n",
      "YouTube       0.06\n",
      "Name: s_subtotal_price, dtype: float64\n",
      "\n",
      "Year 2023\n",
      "% Sales contribution by each app:\n",
      "Social_app\n",
      "Facebook      9.51\n",
      "Instagram    11.00\n",
      "Mail         49.90\n",
      "Whatsapp     29.55\n",
      "YouTube       0.04\n",
      "Name: s_subtotal_price, dtype: float64\n"
     ]
    }
   ],
   "source": [
    "#Social Media\n",
    "for i in year:\n",
    "    sales_contri = (\n",
    "    df5[(df5[\"Social_app\"] != \"\") & (df5['year'] == i)]\n",
    "    .groupby(\"Social_app\")[\"s_subtotal_price\"]\n",
    "    .sum() * 100 /\n",
    "    df5[(df5[\"Social_app\"] != \"\") & (df5['year'] == i)][\"s_subtotal_price\"].sum()\n",
    ")\n",
    "\n",
    "    \n",
    "    print(f\"\\nYear {i}\")\n",
    "    print(\"% Sales contribution by each app:\")\n",
    "    print(sales_contri.round(2))"
   ]
  }
 ],
 "metadata": {
  "kernelspec": {
   "display_name": "Python 3 (ipykernel)",
   "language": "python",
   "name": "python3"
  },
  "language_info": {
   "codemirror_mode": {
    "name": "ipython",
    "version": 3
   },
   "file_extension": ".py",
   "mimetype": "text/x-python",
   "name": "python",
   "nbconvert_exporter": "python",
   "pygments_lexer": "ipython3",
   "version": "3.11.1"
  }
 },
 "nbformat": 4,
 "nbformat_minor": 5
}
